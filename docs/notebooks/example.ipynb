{"cells": [{"cell_type": "markdown", "metadata": {}, "source": ["# Example Notebook\n", "This is an example notebook."]}], "metadata": {}, "nbformat": 4, "nbformat_minor": 2}
